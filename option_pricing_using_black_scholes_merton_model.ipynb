{
  "metadata": {
    "kernelspec": {
      "language": "python",
      "display_name": "Python 3",
      "name": "python3"
    },
    "language_info": {
      "pygments_lexer": "ipython3",
      "nbconvert_exporter": "python",
      "version": "3.6.4",
      "file_extension": ".py",
      "codemirror_mode": {
        "name": "ipython",
        "version": 3
      },
      "name": "python",
      "mimetype": "text/x-python"
    },
    "kaggle": {
      "accelerator": "none",
      "dataSources": [],
      "dockerImageVersionId": 30213,
      "isInternetEnabled": true,
      "language": "python",
      "sourceType": "notebook",
      "isGpuEnabled": false
    },
    "colab": {
      "provenance": []
    }
  },
  "nbformat_minor": 0,
  "nbformat": 4,
  "cells": [
    {
      "cell_type": "markdown",
      "source": [
        "# Option Pricing using the Black-Scholes-Melton Model"
      ],
      "metadata": {
        "id": "PFnduoqB1hJx"
      }
    },
    {
      "cell_type": "markdown",
      "source": [
        "## Options\n"
      ],
      "metadata": {
        "id": "L1T418xH1omG"
      }
    },
    {
      "cell_type": "markdown",
      "source": [
        "An option is a financial derivative that gives the holder the right, but not the obligation, to buy or sell an underlying asset at a specified price within a specific time period. The underlying asset can be a stock, bond, commodity, or other financial instrument. There are two types of options: call options and put options.\n"
      ],
      "metadata": {
        "id": "x93y52Yy2ln0"
      }
    },
    {
      "cell_type": "markdown",
      "source": [
        "## The Black-Scholes-Merton Model"
      ],
      "metadata": {
        "id": "QhcxISwp2ZHp"
      }
    },
    {
      "cell_type": "markdown",
      "source": [
        "The Black-Scholes Model, developed in 1973 by Fischer Black, Myron Scholes, and Robert Merton, is a mathematical model for calculating the theoretical price of European-style options. It is widely employed in finance to estimate the fair market value of options by considering factors such as the current stock price, option's strike price, time until expiration, risk-free interest rate, and volatility of the underlying asset. For European call options, the formula involves the stock price, strike price, risk-free rate, time to expiration, and cumulative distribution functions of the standard normal distribution. The model assumes a geometric Brownian motion for the underlying stock, with constant volatility and interest rates. Despite its widespread use, the Black-Scholes Model has limitations due to its assumptions, and deviations from these assumptions in real-world market conditions may necessitate adjustments or alternative pricing models."
      ],
      "metadata": {
        "id": "R_Pg8yKx2njK"
      }
    },
    {
      "cell_type": "code",
      "source": [
        "import numpy as np # linear algebra\n",
        "import pandas as pd # data processing, CSV file I/O\n",
        "from scipy.stats import norm\n",
        "import matplotlib.pyplot as plt\n"
      ],
      "metadata": {
        "_uuid": "8f2839f25d086af736a60e9eeb907d3b93b6e0e5",
        "_cell_guid": "b1076dfc-b9ad-4769-8c92-a6c4dae69d19",
        "execution": {
          "iopub.status.busy": "2022-09-20T23:50:49.458806Z",
          "iopub.execute_input": "2022-09-20T23:50:49.45995Z",
          "iopub.status.idle": "2022-09-20T23:50:50.291322Z",
          "shell.execute_reply.started": "2022-09-20T23:50:49.459836Z",
          "shell.execute_reply": "2022-09-20T23:50:50.29015Z"
        },
        "trusted": true,
        "id": "I41TMyR1ze1k"
      },
      "execution_count": 29,
      "outputs": []
    },
    {
      "cell_type": "code",
      "source": [
        "# BSM Parameters\n",
        "r = .04 #interest free rate\n",
        "S = 120 #stock price\n",
        "K = 90 #strike price\n",
        "T = 162/365 #time in years\n",
        "sigma = .90 #voltatility\n",
        "\n",
        "def blackscholes(r,S,K,T,sigma):\n",
        "    '''Calculate option (Call or Put) pricing based on given parameters'''\n",
        "    d1 = (np.log(S/K) + (r + sigma**2/2)*T)/(sigma*np.sqrt(T))\n",
        "    d2 = d1 - sigma*np.sqrt(T)\n",
        "    try:\n",
        "        call = S*norm.cdf(d1, 0, 1) - K*np.exp(-r*T)*norm.cdf(d2, 0, 1)\n",
        "        print(f'Call price is : {call}')\n",
        "        put = -(S*norm.cdf(-d1, 0, 1) - K*np.exp(-r*T)*norm.cdf(-d2, 0, 1))\n",
        "        print(f'Put price is : {put}')\n",
        "        return call, put\n",
        "    except:\n",
        "        print('Check all the parameters!!!')\n",
        "        return None, None\n",
        ""
      ],
      "metadata": {
        "execution": {
          "iopub.status.busy": "2022-09-20T23:50:50.293078Z",
          "iopub.execute_input": "2022-09-20T23:50:50.293414Z",
          "iopub.status.idle": "2022-09-20T23:50:50.304966Z",
          "shell.execute_reply.started": "2022-09-20T23:50:50.293384Z",
          "shell.execute_reply": "2022-09-20T23:50:50.303501Z"
        },
        "trusted": true,
        "id": "ym5lJLAnze1q"
      },
      "execution_count": 30,
      "outputs": []
    },
    {
      "cell_type": "code",
      "source": [
        "blackscholes(r,S,K,T,sigma)"
      ],
      "metadata": {
        "execution": {
          "iopub.status.busy": "2022-09-20T23:50:50.306189Z",
          "iopub.execute_input": "2022-09-20T23:50:50.306569Z",
          "iopub.status.idle": "2022-09-20T23:50:50.326514Z",
          "shell.execute_reply.started": "2022-09-20T23:50:50.306523Z",
          "shell.execute_reply": "2022-09-20T23:50:50.325552Z"
        },
        "trusted": true,
        "colab": {
          "base_uri": "https://localhost:8080/"
        },
        "id": "HYtL5iXRze1s",
        "outputId": "79d4e964-e782-43cb-d706-b546e5070e6c"
      },
      "execution_count": 31,
      "outputs": [
        {
          "output_type": "stream",
          "name": "stdout",
          "text": [
            "Call price is : 43.348022660415424\n",
            "Put price is : 11.764314162411328\n"
          ]
        },
        {
          "output_type": "execute_result",
          "data": {
            "text/plain": [
              "(43.348022660415424, 11.764314162411328)"
            ]
          },
          "metadata": {},
          "execution_count": 31
        }
      ]
    },
    {
      "cell_type": "markdown",
      "source": [
        "## Call and put option values\n",
        "1. r - interest rate\n",
        "2. S, k - Stock value at time 0, Strike price at time T\n",
        "3. Su , Sd are Stock value at time T; $0< d<1<e^{rT}<u$.\n",
        "Then we calculate,\n",
        "1. Risk neutral probability $p =\\frac{e^{rT}-d}{u-d}$\n",
        "2. Arbitrage-free price of Call option is $C_T=\\frac{Su-k}{u-d}*(1-e^{-rT}*d)$\n",
        "3. The seller's portfolio for hedging the call option consists of $\\Delta=\\frac{Su-k}{Su-Sd}$ shares and borrowings of $B=de^{-rT}*\\left(\\frac{Su-k}{u-d}\\right)$ bonds.\n",
        "4.  Arbitrage-free price of Put option is $P_T=\\frac{Sd-k}{u-d}*(1-e^{-rT}*u)$"
      ],
      "metadata": {
        "id": "_HG3De2Bze1z"
      }
    },
    {
      "cell_type": "code",
      "source": [
        "def call_put_value(r,S,k,u,d,T):\n",
        "    p = (np.exp(r*T) - d)/(u - d)\n",
        "    C_T = (S*u - k)*(1 - np.exp(-r*T) * d) / (u - d)\n",
        "    delta = (S*u - k) / (S*u - S*d)\n",
        "    B = d*np.exp(-r*T)*(S*u - k)/(u - d)\n",
        "    P_T = (S*d - k)*(1 - np.exp(-r*T) * u) / (u - d)\n",
        "    return p, delta, B, C_T, P_T"
      ],
      "metadata": {
        "execution": {
          "iopub.status.busy": "2022-09-21T00:07:51.791809Z",
          "iopub.execute_input": "2022-09-21T00:07:51.792292Z",
          "iopub.status.idle": "2022-09-21T00:07:51.800024Z",
          "shell.execute_reply.started": "2022-09-21T00:07:51.792253Z",
          "shell.execute_reply": "2022-09-21T00:07:51.79917Z"
        },
        "trusted": true,
        "id": "54NfrIWrze10"
      },
      "execution_count": 32,
      "outputs": []
    },
    {
      "cell_type": "code",
      "source": [
        "call_put_value(12/100, 20, 22, 24/20, 19/20, .25)"
      ],
      "metadata": {
        "execution": {
          "iopub.status.busy": "2022-09-21T00:18:31.183732Z",
          "iopub.execute_input": "2022-09-21T00:18:31.184226Z",
          "iopub.status.idle": "2022-09-21T00:18:31.193224Z",
          "shell.execute_reply.started": "2022-09-21T00:18:31.184187Z",
          "shell.execute_reply": "2022-09-21T00:18:31.191852Z"
        },
        "trusted": true,
        "colab": {
          "base_uri": "https://localhost:8080/"
        },
        "id": "kVF213QXze11",
        "outputId": "237e2e52-8fb9-43c4-dd0a-0a8529fff0da"
      },
      "execution_count": 33,
      "outputs": [
        {
          "output_type": "execute_result",
          "data": {
            "text/plain": [
              "(0.32181813581406793,\n",
              " 0.4,\n",
              " 7.375386054968661,\n",
              " 0.6246139450313386,\n",
              " 1.974415683098517)"
            ]
          },
          "metadata": {},
          "execution_count": 33
        }
      ]
    },
    {
      "cell_type": "code",
      "source": [
        "call_put_value(12/100, 24, 22, 26/24, 21/24, .25)"
      ],
      "metadata": {
        "execution": {
          "iopub.status.busy": "2022-09-21T00:20:14.209034Z",
          "iopub.execute_input": "2022-09-21T00:20:14.209519Z",
          "iopub.status.idle": "2022-09-21T00:20:14.218471Z",
          "shell.execute_reply.started": "2022-09-21T00:20:14.209473Z",
          "shell.execute_reply": "2022-09-21T00:20:14.217204Z"
        },
        "trusted": true,
        "colab": {
          "base_uri": "https://localhost:8080/"
        },
        "id": "F58z63fWze11",
        "outputId": "40b21f8e-6719-415a-fd31-bfa019a7b11d"
      },
      "execution_count": 34,
      "outputs": [
        {
          "output_type": "execute_result",
          "data": {
            "text/plain": [
              "(0.7461817629768815,\n",
              " 0.8,\n",
              " 16.30348496361494,\n",
              " 2.8965150363850642,\n",
              " 0.24631677445224165)"
            ]
          },
          "metadata": {},
          "execution_count": 34
        }
      ]
    },
    {
      "cell_type": "code",
      "source": [
        "call_put_value(12/100, 19, 22, 21/19, 17/19, .25)"
      ],
      "metadata": {
        "execution": {
          "iopub.status.busy": "2022-09-21T00:21:06.533781Z",
          "iopub.execute_input": "2022-09-21T00:21:06.534223Z",
          "iopub.status.idle": "2022-09-21T00:21:06.541387Z",
          "shell.execute_reply.started": "2022-09-21T00:21:06.534191Z",
          "shell.execute_reply": "2022-09-21T00:21:06.540389Z"
        },
        "trusted": true,
        "colab": {
          "base_uri": "https://localhost:8080/"
        },
        "id": "8OpNyWWDze12",
        "outputId": "a2fc9d91-b214-4909-8d7d-5cad9dd8762e"
      },
      "execution_count": 35,
      "outputs": [
        {
          "output_type": "execute_result",
          "data": {
            "text/plain": [
              "(0.6446590362792052,\n",
              " -0.2499999999999989,\n",
              " -4.124393517581143,\n",
              " -0.625606482418838,\n",
              " 1.7241952556483393)"
            ]
          },
          "metadata": {},
          "execution_count": 35
        }
      ]
    }
  ]
}